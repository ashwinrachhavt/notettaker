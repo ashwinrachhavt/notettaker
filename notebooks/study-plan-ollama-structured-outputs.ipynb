{
 "cells": [
  {
   "cell_type": "code",
   "execution_count": 7,
   "metadata": {},
   "outputs": [],
   "source": [
    "from ollama import chat\n",
    "from pydantic import BaseModel\n",
    "from pprint import pprint"
   ]
  },
  {
   "cell_type": "code",
   "execution_count": 3,
   "metadata": {},
   "outputs": [],
   "source": [
    "class StudyPlan(BaseModel):\n",
    "    title: str\n",
    "    introduction: str\n",
    "    objectives: list[str]\n",
    "    topics: list[str]\n",
    "    duration: int\n",
    "    questions: list[str]"
   ]
  },
  {
   "cell_type": "code",
   "execution_count": 4,
   "metadata": {},
   "outputs": [],
   "source": [
    "response = chat(\n",
    "    messages = [\n",
    "        {\n",
    "            'role' : 'user',\n",
    "            'content' : 'Give me a detailed study plan about Cash Based Underwriting'\n",
    "        }\n",
    "    ],\n",
    "    model = \"deepseek-r1:7b\",\n",
    "    format = StudyPlan.model_json_schema()\n",
    ")"
   ]
  },
  {
   "cell_type": "code",
   "execution_count": 16,
   "metadata": {},
   "outputs": [
    {
     "name": "stdout",
     "output_type": "stream",
     "text": [
      "{'duration': 4,\n",
      " 'introduction': 'Underwriting is a crucial aspect of the insurance industry, '\n",
      "                 'and cash-based underwriting is one of its complex '\n",
      "                 'components. This study plan is designed to provide a '\n",
      "                 'comprehensive understanding of cash-based underwriting, '\n",
      "                 'including its principles, processes, calculations, '\n",
      "                 'regulatory requirements, and practical applications. The '\n",
      "                 'guide will help you navigate this intricate process, '\n",
      "                 'ensuring that you have all the necessary information to '\n",
      "                 'perform cash-based underwriting effectively.',\n",
      " 'objectives': ['Understand the fundamental concepts and principles of '\n",
      "                'cash-based underwriting',\n",
      "                'Learn the steps involved in calculating cash reserves for '\n",
      "                'insurance policies',\n",
      "                'Explore the regulatory framework governing cash-based '\n",
      "                'underwriting practices',\n",
      "                'Examine real-world examples and case studies of cash-based '\n",
      "                'underwriting',\n",
      "                'Practice applying theoretical knowledge through practical '\n",
      "                'exercises',\n",
      "                'Assess your understanding with self-assessment tools'],\n",
      " 'questions': ['What is cash-based underwriting?',\n",
      "               'Why is it important in the insurance industry?',\n",
      "               'How are cash reserves calculated for different types of '\n",
      "               'policies?',\n",
      "               'What regulatory requirements apply to cash-based underwriting?',\n",
      "               'Can you provide examples of cash-based underwriting in action?',\n",
      "               'How can I practice applying cash-based underwriting concepts?',\n",
      "               'Are there tools or resources available for self-assessment?'],\n",
      " 'title': 'Detailed Study Plan for Cash-Based Underwriting',\n",
      " 'topics': ['Introduction to Underwriting',\n",
      "            'What is Cash-Based Underwriting?',\n",
      "            'Principles of Cash-Based Underwriting',\n",
      "            'Calculating Cash Reserves for Insurance Policies',\n",
      "            'Regulatory Framework in Cash-Based Underwriting',\n",
      "            'Real-World Applications and Case Studies',\n",
      "            'Practice Exercises and Solutions',\n",
      "            'Self-Assessment Tools and Resources']}\n"
     ]
    }
   ],
   "source": [
    "plan = StudyPlan.model_validate_json(response.message.content)\n",
    "pprint(plan.model_dump())"
   ]
  },
  {
   "cell_type": "code",
   "execution_count": null,
   "metadata": {},
   "outputs": [],
   "source": []
  }
 ],
 "metadata": {
  "kernelspec": {
   "display_name": "venv",
   "language": "python",
   "name": "python3"
  },
  "language_info": {
   "codemirror_mode": {
    "name": "ipython",
    "version": 3
   },
   "file_extension": ".py",
   "mimetype": "text/x-python",
   "name": "python",
   "nbconvert_exporter": "python",
   "pygments_lexer": "ipython3",
   "version": "3.12.5"
  }
 },
 "nbformat": 4,
 "nbformat_minor": 2
}
